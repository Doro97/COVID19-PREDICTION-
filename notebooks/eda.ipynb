{
 "cells": [
  {
   "cell_type": "markdown",
   "metadata": {},
   "source": [
    "# Problem Analysis/Understanding\n",
    "\n",
    "This is a classification problem that deals with predicting whether or not an individual has COVID-19."
   ]
  },
  {
   "cell_type": "markdown",
   "metadata": {},
   "source": [
    "# Data Description\n",
    "\n",
    "The data is obained from [Machine learning-based prediction of COVID-19 diagnosis based on symptoms]( https://github.com/nshomron/covidpred/tree/master/data). This dataset contains 8 binary features : sex, age ≥60 years, known contact with an infected individual, and the appearance of five initial clinical symptoms. \n"
   ]
  },
  {
   "cell_type": "markdown",
   "metadata": {},
   "source": [
    "### Importing the necessary packages"
   ]
  },
  {
   "cell_type": "code",
   "execution_count": 1,
   "metadata": {},
   "outputs": [],
   "source": [
    "import pandas as pd\n",
    "import numpy as np\n",
    "import matplotlib.pyplot as plt\n",
    "import seaborn as sns\n",
    "import plotly\n",
    "from plotly.offline import download_plotlyjs, init_notebook_mode,plot,iplot\n",
    "# for data preprocessing\n",
    "from sklearn import model_selection,preprocessing,feature_selection,ensemble,linear_model,metrics,decomposition\n",
    "from sklearn.model_selection import train_test_split\n",
    "from sklearn.preprocessing import StandardScaler\n",
    "\n",
    "# for model development\n",
    "from sklearn.tree import DecisionTreeClassifier\n",
    "from sklearn.ensemble import RandomForestClassifier\n",
    "from sklearn.linear_model import LogisticRegression\n",
    "from sklearn.naive_bayes import GaussianNB\n"
   ]
  },
  {
   "cell_type": "markdown",
   "metadata": {},
   "source": [
    "### Loading the dataset"
   ]
  },
  {
   "cell_type": "code",
   "execution_count": 2,
   "metadata": {},
   "outputs": [
    {
     "name": "stderr",
     "output_type": "stream",
     "text": [
      "C:\\Users\\user.DESKTOP-OMQ89VA\\Anaconda3\\lib\\site-packages\\IPython\\core\\interactiveshell.py:3071: DtypeWarning: Columns (7) have mixed types.Specify dtype option on import or set low_memory=False.\n",
      "  has_raised = await self.run_ast_nodes(code_ast.body, cell_name,\n"
     ]
    }
   ],
   "source": [
    "df=pd.read_csv('E:\\Machine Learning Projects\\Covid19Prediction\\data\\corona_tested_individuals_ver_0083.english.csv')"
   ]
  },
  {
   "cell_type": "markdown",
   "metadata": {},
   "source": [
    "### Identify the top 5 values of the dataset"
   ]
  },
  {
   "cell_type": "code",
   "execution_count": 3,
   "metadata": {},
   "outputs": [
    {
     "data": {
      "text/html": [
       "<div>\n",
       "<style scoped>\n",
       "    .dataframe tbody tr th:only-of-type {\n",
       "        vertical-align: middle;\n",
       "    }\n",
       "\n",
       "    .dataframe tbody tr th {\n",
       "        vertical-align: top;\n",
       "    }\n",
       "\n",
       "    .dataframe thead th {\n",
       "        text-align: right;\n",
       "    }\n",
       "</style>\n",
       "<table border=\"1\" class=\"dataframe\">\n",
       "  <thead>\n",
       "    <tr style=\"text-align: right;\">\n",
       "      <th></th>\n",
       "      <th>test_date</th>\n",
       "      <th>cough</th>\n",
       "      <th>fever</th>\n",
       "      <th>sore_throat</th>\n",
       "      <th>shortness_of_breath</th>\n",
       "      <th>head_ache</th>\n",
       "      <th>corona_result</th>\n",
       "      <th>age_60_and_above</th>\n",
       "      <th>gender</th>\n",
       "      <th>test_indication</th>\n",
       "    </tr>\n",
       "  </thead>\n",
       "  <tbody>\n",
       "    <tr>\n",
       "      <th>0</th>\n",
       "      <td>2020-11-12</td>\n",
       "      <td>0</td>\n",
       "      <td>0</td>\n",
       "      <td>0</td>\n",
       "      <td>0</td>\n",
       "      <td>0</td>\n",
       "      <td>negative</td>\n",
       "      <td>No</td>\n",
       "      <td>male</td>\n",
       "      <td>Other</td>\n",
       "    </tr>\n",
       "    <tr>\n",
       "      <th>1</th>\n",
       "      <td>2020-11-12</td>\n",
       "      <td>0</td>\n",
       "      <td>1</td>\n",
       "      <td>0</td>\n",
       "      <td>0</td>\n",
       "      <td>0</td>\n",
       "      <td>negative</td>\n",
       "      <td>No</td>\n",
       "      <td>male</td>\n",
       "      <td>Other</td>\n",
       "    </tr>\n",
       "    <tr>\n",
       "      <th>2</th>\n",
       "      <td>2020-11-12</td>\n",
       "      <td>0</td>\n",
       "      <td>0</td>\n",
       "      <td>0</td>\n",
       "      <td>0</td>\n",
       "      <td>0</td>\n",
       "      <td>negative</td>\n",
       "      <td>Yes</td>\n",
       "      <td>female</td>\n",
       "      <td>Other</td>\n",
       "    </tr>\n",
       "    <tr>\n",
       "      <th>3</th>\n",
       "      <td>2020-11-12</td>\n",
       "      <td>0</td>\n",
       "      <td>0</td>\n",
       "      <td>0</td>\n",
       "      <td>0</td>\n",
       "      <td>0</td>\n",
       "      <td>negative</td>\n",
       "      <td>No</td>\n",
       "      <td>male</td>\n",
       "      <td>Other</td>\n",
       "    </tr>\n",
       "    <tr>\n",
       "      <th>4</th>\n",
       "      <td>2020-11-12</td>\n",
       "      <td>0</td>\n",
       "      <td>1</td>\n",
       "      <td>0</td>\n",
       "      <td>0</td>\n",
       "      <td>0</td>\n",
       "      <td>negative</td>\n",
       "      <td>No</td>\n",
       "      <td>male</td>\n",
       "      <td>Contact with confirmed</td>\n",
       "    </tr>\n",
       "  </tbody>\n",
       "</table>\n",
       "</div>"
      ],
      "text/plain": [
       "    test_date  cough  fever  sore_throat  shortness_of_breath  head_ache  \\\n",
       "0  2020-11-12      0      0            0                    0          0   \n",
       "1  2020-11-12      0      1            0                    0          0   \n",
       "2  2020-11-12      0      0            0                    0          0   \n",
       "3  2020-11-12      0      0            0                    0          0   \n",
       "4  2020-11-12      0      1            0                    0          0   \n",
       "\n",
       "  corona_result age_60_and_above  gender         test_indication  \n",
       "0      negative               No    male                   Other  \n",
       "1      negative               No    male                   Other  \n",
       "2      negative              Yes  female                   Other  \n",
       "3      negative               No    male                   Other  \n",
       "4      negative               No    male  Contact with confirmed  "
      ]
     },
     "execution_count": 3,
     "metadata": {},
     "output_type": "execute_result"
    }
   ],
   "source": [
    "df.head()"
   ]
  },
  {
   "cell_type": "markdown",
   "metadata": {},
   "source": [
    "#### Column definitions\n",
    "1. Age over 60 - Age_60\n",
    "2. Sex - Male (Male=1, Female=0)\n",
    "3. Cough - Cough\n",
    "4. Shortness of breath - Shortness_of_breath\n",
    "5. Fever - Fever\n",
    "6. Sore throat - Sore_throat\n",
    "7. Headache - Headache\n",
    "8. Contact with a confirmed individual - Contact_with_confirmed\n",
    "\n",
    "\n",
    "For columns with values 0 and 1, 1=True and 0=False\n"
   ]
  },
  {
   "cell_type": "markdown",
   "metadata": {},
   "source": [
    "# Data preparation and preprocessing\n",
    "The following are the steps to be followed:\n",
    "1. Handling missing values\n",
    "2. Handling non-numeric data (handling categorical, ordinal variables and strings)\n",
    "4. Extracting only useful and relevant features: Feature selection\n",
    "5. Splitting data into Training and test sets\n",
    "6. Checking for Class imbalance and tackling it\n",
    "7. Standard scaling of data\n",
    "\n",
    "\n",
    "\n",
    "## Exploratory Data Analysis"
   ]
  },
  {
   "cell_type": "markdown",
   "metadata": {},
   "source": [
    "Identifying the types of values in each column"
   ]
  },
  {
   "cell_type": "code",
   "execution_count": 4,
   "metadata": {},
   "outputs": [
    {
     "name": "stdout",
     "output_type": "stream",
     "text": [
      "<class 'pandas.core.frame.DataFrame'>\n",
      "RangeIndex: 2742596 entries, 0 to 2742595\n",
      "Data columns (total 10 columns):\n",
      " #   Column               Dtype \n",
      "---  ------               ----- \n",
      " 0   test_date            object\n",
      " 1   cough                int64 \n",
      " 2   fever                int64 \n",
      " 3   sore_throat          int64 \n",
      " 4   shortness_of_breath  int64 \n",
      " 5   head_ache            int64 \n",
      " 6   corona_result        object\n",
      " 7   age_60_and_above     object\n",
      " 8   gender               object\n",
      " 9   test_indication      object\n",
      "dtypes: int64(5), object(5)\n",
      "memory usage: 209.2+ MB\n"
     ]
    }
   ],
   "source": [
    "df.info()"
   ]
  },
  {
   "cell_type": "markdown",
   "metadata": {},
   "source": [
    "### Converting 'test_date' into a datetime object"
   ]
  },
  {
   "cell_type": "code",
   "execution_count": 5,
   "metadata": {},
   "outputs": [],
   "source": [
    "df.test_date=pd.to_datetime(df['test_date'])\n"
   ]
  },
  {
   "cell_type": "code",
   "execution_count": 6,
   "metadata": {},
   "outputs": [
    {
     "name": "stdout",
     "output_type": "stream",
     "text": [
      " Number of rows:  2742596 \n",
      " Number of columns: 10 \n"
     ]
    }
   ],
   "source": [
    "# number of data points\n",
    "print(f\" Number of rows:  {df.shape[0]} \\n Number of columns: {df.shape[1]} \")"
   ]
  },
  {
   "cell_type": "markdown",
   "metadata": {},
   "source": [
    "### Identify the values in each column"
   ]
  },
  {
   "cell_type": "code",
   "execution_count": 7,
   "metadata": {},
   "outputs": [
    {
     "name": "stdout",
     "output_type": "stream",
     "text": [
      "Unique values on test_date column are : ['2020-11-12T00:00:00.000000000' '2020-11-11T00:00:00.000000000'\n",
      " '2020-11-10T00:00:00.000000000' '2020-11-09T00:00:00.000000000'\n",
      " '2020-11-08T00:00:00.000000000' '2020-11-07T00:00:00.000000000'\n",
      " '2020-11-06T00:00:00.000000000' '2020-11-05T00:00:00.000000000'\n",
      " '2020-11-04T00:00:00.000000000' '2020-11-03T00:00:00.000000000'\n",
      " '2020-11-02T00:00:00.000000000' '2020-11-01T00:00:00.000000000'\n",
      " '2020-10-31T00:00:00.000000000' '2020-10-30T00:00:00.000000000'\n",
      " '2020-10-29T00:00:00.000000000' '2020-10-28T00:00:00.000000000'\n",
      " '2020-10-27T00:00:00.000000000' '2020-10-26T00:00:00.000000000'\n",
      " '2020-10-25T00:00:00.000000000' '2020-10-24T00:00:00.000000000'\n",
      " '2020-10-23T00:00:00.000000000' '2020-10-22T00:00:00.000000000'\n",
      " '2020-10-21T00:00:00.000000000' '2020-10-20T00:00:00.000000000'\n",
      " '2020-10-19T00:00:00.000000000' '2020-10-18T00:00:00.000000000'\n",
      " '2020-10-17T00:00:00.000000000' '2020-10-16T00:00:00.000000000'\n",
      " '2020-10-15T00:00:00.000000000' '2020-10-14T00:00:00.000000000'\n",
      " '2020-10-13T00:00:00.000000000' '2020-10-12T00:00:00.000000000'\n",
      " '2020-10-11T00:00:00.000000000' '2020-10-10T00:00:00.000000000'\n",
      " '2020-10-09T00:00:00.000000000' '2020-10-08T00:00:00.000000000'\n",
      " '2020-10-07T00:00:00.000000000' '2020-10-06T00:00:00.000000000'\n",
      " '2020-10-05T00:00:00.000000000' '2020-10-04T00:00:00.000000000'\n",
      " '2020-10-03T00:00:00.000000000' '2020-10-02T00:00:00.000000000'\n",
      " '2020-10-01T00:00:00.000000000' '2020-09-30T00:00:00.000000000'\n",
      " '2020-09-29T00:00:00.000000000' '2020-09-28T00:00:00.000000000'\n",
      " '2020-09-27T00:00:00.000000000' '2020-09-26T00:00:00.000000000'\n",
      " '2020-09-25T00:00:00.000000000' '2020-09-24T00:00:00.000000000'\n",
      " '2020-09-23T00:00:00.000000000' '2020-09-22T00:00:00.000000000'\n",
      " '2020-09-21T00:00:00.000000000' '2020-09-20T00:00:00.000000000'\n",
      " '2020-09-19T00:00:00.000000000' '2020-09-18T00:00:00.000000000'\n",
      " '2020-09-17T00:00:00.000000000' '2020-09-16T00:00:00.000000000'\n",
      " '2020-09-15T00:00:00.000000000' '2020-09-14T00:00:00.000000000'\n",
      " '2020-09-13T00:00:00.000000000' '2020-09-12T00:00:00.000000000'\n",
      " '2020-09-11T00:00:00.000000000' '2020-09-10T00:00:00.000000000'\n",
      " '2020-09-09T00:00:00.000000000' '2020-09-08T00:00:00.000000000'\n",
      " '2020-09-07T00:00:00.000000000' '2020-09-06T00:00:00.000000000'\n",
      " '2020-09-05T00:00:00.000000000' '2020-09-04T00:00:00.000000000'\n",
      " '2020-09-03T00:00:00.000000000' '2020-09-02T00:00:00.000000000'\n",
      " '2020-09-01T00:00:00.000000000' '2020-08-31T00:00:00.000000000'\n",
      " '2020-08-30T00:00:00.000000000' '2020-08-29T00:00:00.000000000'\n",
      " '2020-08-28T00:00:00.000000000' '2020-08-27T00:00:00.000000000'\n",
      " '2020-08-26T00:00:00.000000000' '2020-08-25T00:00:00.000000000'\n",
      " '2020-08-24T00:00:00.000000000' '2020-08-23T00:00:00.000000000'\n",
      " '2020-08-22T00:00:00.000000000' '2020-08-21T00:00:00.000000000'\n",
      " '2020-08-20T00:00:00.000000000' '2020-08-19T00:00:00.000000000'\n",
      " '2020-08-18T00:00:00.000000000' '2020-08-17T00:00:00.000000000'\n",
      " '2020-08-16T00:00:00.000000000' '2020-08-15T00:00:00.000000000'\n",
      " '2020-08-14T00:00:00.000000000' '2020-08-13T00:00:00.000000000'\n",
      " '2020-08-12T00:00:00.000000000' '2020-08-11T00:00:00.000000000'\n",
      " '2020-08-10T00:00:00.000000000' '2020-08-09T00:00:00.000000000'\n",
      " '2020-08-08T00:00:00.000000000' '2020-08-07T00:00:00.000000000'\n",
      " '2020-08-06T00:00:00.000000000' '2020-08-05T00:00:00.000000000'\n",
      " '2020-08-04T00:00:00.000000000' '2020-08-03T00:00:00.000000000'\n",
      " '2020-08-02T00:00:00.000000000' '2020-08-01T00:00:00.000000000'\n",
      " '2020-07-31T00:00:00.000000000' '2020-07-30T00:00:00.000000000'\n",
      " '2020-07-29T00:00:00.000000000' '2020-07-28T00:00:00.000000000'\n",
      " '2020-07-27T00:00:00.000000000' '2020-07-26T00:00:00.000000000'\n",
      " '2020-07-25T00:00:00.000000000' '2020-07-24T00:00:00.000000000'\n",
      " '2020-07-23T00:00:00.000000000' '2020-07-22T00:00:00.000000000'\n",
      " '2020-07-21T00:00:00.000000000' '2020-07-20T00:00:00.000000000'\n",
      " '2020-07-19T00:00:00.000000000' '2020-07-18T00:00:00.000000000'\n",
      " '2020-07-17T00:00:00.000000000' '2020-07-16T00:00:00.000000000'\n",
      " '2020-07-15T00:00:00.000000000' '2020-07-14T00:00:00.000000000'\n",
      " '2020-07-13T00:00:00.000000000' '2020-07-12T00:00:00.000000000'\n",
      " '2020-07-11T00:00:00.000000000' '2020-07-10T00:00:00.000000000'\n",
      " '2020-07-09T00:00:00.000000000' '2020-07-08T00:00:00.000000000'\n",
      " '2020-07-07T00:00:00.000000000' '2020-07-06T00:00:00.000000000'\n",
      " '2020-07-05T00:00:00.000000000' '2020-07-04T00:00:00.000000000'\n",
      " '2020-07-03T00:00:00.000000000' '2020-07-02T00:00:00.000000000'\n",
      " '2020-07-01T00:00:00.000000000' '2020-06-30T00:00:00.000000000'\n",
      " '2020-06-29T00:00:00.000000000' '2020-06-28T00:00:00.000000000'\n",
      " '2020-06-27T00:00:00.000000000' '2020-06-26T00:00:00.000000000'\n",
      " '2020-06-25T00:00:00.000000000' '2020-06-24T00:00:00.000000000'\n",
      " '2020-06-23T00:00:00.000000000' '2020-06-22T00:00:00.000000000'\n",
      " '2020-06-21T00:00:00.000000000' '2020-06-20T00:00:00.000000000'\n",
      " '2020-06-19T00:00:00.000000000' '2020-06-18T00:00:00.000000000'\n",
      " '2020-06-17T00:00:00.000000000' '2020-06-16T00:00:00.000000000'\n",
      " '2020-06-15T00:00:00.000000000' '2020-06-14T00:00:00.000000000'\n",
      " '2020-06-13T00:00:00.000000000' '2020-06-12T00:00:00.000000000'\n",
      " '2020-06-11T00:00:00.000000000' '2020-06-10T00:00:00.000000000'\n",
      " '2020-06-09T00:00:00.000000000' '2020-06-08T00:00:00.000000000'\n",
      " '2020-06-07T00:00:00.000000000' '2020-06-06T00:00:00.000000000'\n",
      " '2020-06-05T00:00:00.000000000' '2020-06-04T00:00:00.000000000'\n",
      " '2020-06-03T00:00:00.000000000' '2020-06-02T00:00:00.000000000'\n",
      " '2020-06-01T00:00:00.000000000' '2020-05-31T00:00:00.000000000'\n",
      " '2020-05-30T00:00:00.000000000' '2020-05-29T00:00:00.000000000'\n",
      " '2020-05-28T00:00:00.000000000' '2020-05-27T00:00:00.000000000'\n",
      " '2020-05-26T00:00:00.000000000' '2020-05-25T00:00:00.000000000'\n",
      " '2020-05-24T00:00:00.000000000' '2020-05-23T00:00:00.000000000'\n",
      " '2020-05-22T00:00:00.000000000' '2020-05-21T00:00:00.000000000'\n",
      " '2020-05-20T00:00:00.000000000' '2020-05-19T00:00:00.000000000'\n",
      " '2020-05-18T00:00:00.000000000' '2020-05-17T00:00:00.000000000'\n",
      " '2020-05-16T00:00:00.000000000' '2020-05-15T00:00:00.000000000'\n",
      " '2020-05-14T00:00:00.000000000' '2020-05-13T00:00:00.000000000'\n",
      " '2020-05-12T00:00:00.000000000' '2020-05-11T00:00:00.000000000'\n",
      " '2020-05-10T00:00:00.000000000' '2020-05-09T00:00:00.000000000'\n",
      " '2020-05-08T00:00:00.000000000' '2020-05-07T00:00:00.000000000'\n",
      " '2020-05-06T00:00:00.000000000' '2020-05-05T00:00:00.000000000'\n",
      " '2020-05-04T00:00:00.000000000' '2020-05-03T00:00:00.000000000'\n",
      " '2020-05-02T00:00:00.000000000' '2020-05-01T00:00:00.000000000'\n",
      " '2020-04-30T00:00:00.000000000' '2020-04-29T00:00:00.000000000'\n",
      " '2020-04-28T00:00:00.000000000' '2020-04-27T00:00:00.000000000'\n",
      " '2020-04-26T00:00:00.000000000' '2020-04-25T00:00:00.000000000'\n",
      " '2020-04-24T00:00:00.000000000' '2020-04-23T00:00:00.000000000'\n",
      " '2020-04-22T00:00:00.000000000' '2020-04-21T00:00:00.000000000'\n",
      " '2020-04-20T00:00:00.000000000' '2020-04-19T00:00:00.000000000'\n",
      " '2020-04-18T00:00:00.000000000' '2020-04-17T00:00:00.000000000'\n",
      " '2020-04-16T00:00:00.000000000' '2020-04-15T00:00:00.000000000'\n",
      " '2020-04-14T00:00:00.000000000' '2020-04-13T00:00:00.000000000'\n",
      " '2020-04-12T00:00:00.000000000' '2020-04-11T00:00:00.000000000'\n",
      " '2020-04-10T00:00:00.000000000' '2020-04-09T00:00:00.000000000'\n",
      " '2020-04-08T00:00:00.000000000' '2020-04-07T00:00:00.000000000'\n",
      " '2020-04-06T00:00:00.000000000' '2020-04-05T00:00:00.000000000'\n",
      " '2020-04-04T00:00:00.000000000' '2020-04-03T00:00:00.000000000'\n",
      " '2020-04-02T00:00:00.000000000' '2020-04-01T00:00:00.000000000'\n",
      " '2020-03-31T00:00:00.000000000' '2020-03-30T00:00:00.000000000'\n",
      " '2020-03-29T00:00:00.000000000' '2020-03-28T00:00:00.000000000'\n",
      " '2020-03-27T00:00:00.000000000' '2020-03-26T00:00:00.000000000'\n",
      " '2020-03-25T00:00:00.000000000' '2020-03-24T00:00:00.000000000'\n",
      " '2020-03-23T00:00:00.000000000' '2020-03-22T00:00:00.000000000'\n",
      " '2020-03-21T00:00:00.000000000' '2020-03-20T00:00:00.000000000'\n",
      " '2020-03-19T00:00:00.000000000' '2020-03-18T00:00:00.000000000'\n",
      " '2020-03-17T00:00:00.000000000' '2020-03-16T00:00:00.000000000'\n",
      " '2020-03-15T00:00:00.000000000' '2020-03-14T00:00:00.000000000'\n",
      " '2020-03-13T00:00:00.000000000' '2020-03-12T00:00:00.000000000'\n",
      " '2020-03-11T00:00:00.000000000']\n",
      "Unique values on cough column are : [0 1]\n",
      "Unique values on fever column are : [0 1]\n",
      "Unique values on sore_throat column are : [0 1]\n",
      "Unique values on shortness_of_breath column are : [0 1]\n",
      "Unique values on head_ache column are : [0 1]\n",
      "Unique values on corona_result column are : ['negative' 'positive' 'other']\n",
      "Unique values on age_60_and_above column are : ['No' 'Yes' nan]\n",
      "Unique values on gender column are : ['male' 'female' nan]\n",
      "Unique values on test_indication column are : ['Other' 'Contact with confirmed' 'Abroad']\n"
     ]
    }
   ],
   "source": [
    "#identifying the unique values in each column\n",
    "for i in df.columns:\n",
    "    print('Unique values on',i,'column are :',df[i].unique())"
   ]
  },
  {
   "cell_type": "markdown",
   "metadata": {},
   "source": [
    "From the above we can see that the type of unique values each column has. Some columns such as 'age_60_and_above' and the 'gender' column contain values categorised as 'nan', which are null values. These have to be dealt with when cleaning the dataset. \n",
    "\n",
    "The column 'test_indication' represents the reason why an individual has been tested for COVID-19 which can be either be 'Contact with confirmed'(the individual has come into contact with someone who has tested positive), 'Abroad'(the individual had gone abroad) and 'Other'(other reasons)"
   ]
  },
  {
   "cell_type": "markdown",
   "metadata": {},
   "source": [
    "### Identifying missing values"
   ]
  },
  {
   "cell_type": "code",
   "execution_count": 8,
   "metadata": {},
   "outputs": [
    {
     "name": "stdout",
     "output_type": "stream",
     "text": [
      "The dataset contains 2.34 % missing values.\n"
     ]
    }
   ],
   "source": [
    "# the percentage of missing values in the dataset\n",
    "def missing_values(dataframe:pd.DataFrame):\n",
    "    # Total number of elements in the dataset\n",
    "    totalCells = dataframe.size\n",
    "    #Number of missing values per column\n",
    "    missingCount = dataframe.isnull().sum()\n",
    "    #Total number of missing values\n",
    "    totalMissing = missingCount.sum()\n",
    "    # Calculate percentage of missing values\n",
    "    print(\"The dataset contains\", round(((totalMissing/totalCells) * 100), 2), \"%\", \"missing values.\")\n",
    "\n",
    "missing_values(df)"
   ]
  },
  {
   "cell_type": "markdown",
   "metadata": {},
   "source": [
    "This dataset has 2.34% of its data missing"
   ]
  },
  {
   "cell_type": "code",
   "execution_count": 9,
   "metadata": {},
   "outputs": [
    {
     "data": {
      "text/plain": [
       "test_date               0.000000\n",
       "cough                   0.000000\n",
       "fever                   0.000000\n",
       "sore_throat             0.000000\n",
       "shortness_of_breath     0.000000\n",
       "head_ache               0.000000\n",
       "corona_result           0.000000\n",
       "age_60_and_above       19.968089\n",
       "gender                  3.386791\n",
       "test_indication         0.000000\n",
       "dtype: float64"
      ]
     },
     "execution_count": 9,
     "metadata": {},
     "output_type": "execute_result"
    }
   ],
   "source": [
    "def column_missingdata(dataframe:pd.DataFrame):\n",
    "    #check for missing values per column\n",
    "    values=df.isnull().sum().sort_values(ascending=False)\n",
    "    #percentage of missing values per column\n",
    "    percentage=dataframe.isnull().mean()*100\n",
    "    return percentage\n",
    "\n",
    "column_missingdata(df)"
   ]
  },
  {
   "cell_type": "markdown",
   "metadata": {},
   "source": [
    "The column 'age_60_and_above' and 'gender ' are missing 20% and 3% of the values respectively.\n"
   ]
  },
  {
   "cell_type": "markdown",
   "metadata": {},
   "source": [
    "### Handling missing values\n",
    "\n",
    "We can drop all the rows that are missing values "
   ]
  },
  {
   "cell_type": "code",
   "execution_count": 10,
   "metadata": {},
   "outputs": [],
   "source": [
    "data=df.copy()\n",
    "data.head()\n",
    "data.dropna(inplace=True)\n"
   ]
  },
  {
   "cell_type": "code",
   "execution_count": 11,
   "metadata": {},
   "outputs": [
    {
     "name": "stdout",
     "output_type": "stream",
     "text": [
      "(2742596, 10)\n",
      "(2186227, 10)\n"
     ]
    }
   ],
   "source": [
    "print(df.shape)\n",
    "print(data.shape)\n"
   ]
  },
  {
   "cell_type": "code",
   "execution_count": 12,
   "metadata": {},
   "outputs": [
    {
     "data": {
      "text/plain": [
       "20.28621787532688"
      ]
     },
     "execution_count": 12,
     "metadata": {},
     "output_type": "execute_result"
    }
   ],
   "source": [
    "# the percentage of information lost from dropping the missing values\n",
    "(len(df)-len(data))/len(df)*100"
   ]
  },
  {
   "cell_type": "markdown",
   "metadata": {},
   "source": [
    "20% of the data is lost from dropping all the missing values"
   ]
  },
  {
   "cell_type": "markdown",
   "metadata": {},
   "source": [
    "## Graphical Analysis"
   ]
  },
  {
   "cell_type": "code",
   "execution_count": 13,
   "metadata": {},
   "outputs": [],
   "source": [
    "def plot_hist(df:pd.DataFrame, column:str, color:str)->None:\n",
    "    # plt.figure(figsize=(15, 10))\n",
    "    # fig, ax = plt.subplots(1, figsize=(12, 7))\n",
    "    sns.displot(data=df, x=column, color=color, kde=True, height=7, aspect=2)\n",
    "    plt.title(f'Distribution of {column}', size=20, fontweight='bold')\n",
    "    plt.show()\n",
    "\n",
    "def plot_count(df:pd.DataFrame, column:str) -> None:\n",
    "    plt.figure(figsize=(12, 7))\n",
    "    sns.countplot(data=df, x=column)\n",
    "    plt.title(f'Distribution of {column}', size=20, fontweight='bold')\n",
    "    plt.show()\n",
    "    \n",
    "def plot_bar(df:pd.DataFrame, x_col:str, y_col:str, title:str, xlabel:str, ylabel:str)->None:\n",
    "    plt.figure(figsize=(12, 7))\n",
    "    sns.barplot(data = df, x=x_col, y=y_col)\n",
    "    plt.title(title, size=20)\n",
    "    plt.xticks(rotation=75, fontsize=14)\n",
    "    plt.yticks( fontsize=14)\n",
    "    plt.xlabel(xlabel, fontsize=16)\n",
    "    plt.ylabel(ylabel, fontsize=16)\n",
    "    plt.show()\n",
    "\n",
    "def plot_heatmap(df:pd.DataFrame, title:str, cbar=False)->None:\n",
    "    plt.figure(figsize=(12, 7))\n",
    "    sns.heatmap(df, annot=True, cmap='viridis', vmin=0, vmax=1, fmt='.2f', linewidths=.7, cbar=cbar )\n",
    "    plt.title(title, size=18, fontweight='bold')\n",
    "    plt.show()\n",
    "\n",
    "def plot_box(df:pd.DataFrame, x_col:str, title:str) -> None:\n",
    "    plt.figure(figsize=(12, 7))\n",
    "    sns.boxplot(data = df, x=x_col)\n",
    "    plt.title(title, size=20)\n",
    "    plt.xticks(rotation=75, fontsize=14)\n",
    "    plt.show()\n",
    "\n",
    "def plot_box_multi(df:pd.DataFrame, x_col:str, y_col:str, title:str) -> None:\n",
    "    plt.figure(figsize=(12, 7))\n",
    "    sns.boxplot(data = df, x=x_col, y=y_col)\n",
    "    plt.title(title, size=20)\n",
    "    plt.xticks(rotation=75, fontsize=14)\n",
    "    plt.yticks( fontsize=14)\n",
    "    plt.show()\n",
    "\n",
    "def plot_scatter(df: pd.DataFrame, x_col: str, y_col: str, title: str, hue: str, style: str) -> None:\n",
    "    plt.figure(figsize=(12, 7))\n",
    "    sns.scatterplot(data = df, x=x_col, y=y_col, hue=hue, style=style)\n",
    "    plt.title(title, size=20)\n",
    "    plt.xticks(fontsize=14)\n",
    "    plt.yticks( fontsize=14)\n",
    "    plt.show()\n",
    "\n",
    "def correlation(df:pd.DataFrame):\n",
    "    corr=df.corr()\n",
    "    matrix=np.triu(df.corr())\n",
    "    sns.heatmap(corr,annot=True,square=True,mask=matrix)\n",
    "    fig=plt.gcf()\n",
    "    figsize=fig.get_size_inches()\n",
    "    fig.set_size_inches(figsize*4)\n",
    "    plt.show()"
   ]
  },
  {
   "cell_type": "markdown",
   "metadata": {},
   "source": [
    "### Handling non-numeric data"
   ]
  },
  {
   "cell_type": "markdown",
   "metadata": {},
   "source": [
    "#### The distribution of all the non-numerical columns"
   ]
  },
  {
   "cell_type": "code",
   "execution_count": 14,
   "metadata": {},
   "outputs": [],
   "source": [
    "categorical_columns=data[['age_60_and_above','gender','test_indication']]\n",
    "\n",
    "def categorical_count(dataframe:pd.DataFrame):\n",
    "    \"\"\"A function that prints the value count of the categorical columns\"\"\"\n",
    "    for i in dataframe.columns:\n",
    "        cat_count=dataframe[i].value_counts()\n",
    "    print('The number of values in',i,': \\n ',cat_count)\n"
   ]
  },
  {
   "cell_type": "code",
   "execution_count": 15,
   "metadata": {},
   "outputs": [
    {
     "name": "stdout",
     "output_type": "stream",
     "text": [
      "The number of values in test_indication : \n",
      "  Other                     2018366\n",
      "Contact with confirmed     151848\n",
      "Abroad                      16013\n",
      "Name: test_indication, dtype: int64\n"
     ]
    }
   ],
   "source": [
    "categorical_count(categorical_columns)"
   ]
  },
  {
   "cell_type": "code",
   "execution_count": 16,
   "metadata": {},
   "outputs": [
    {
     "data": {
      "image/png": "[encoded data removed]",
      "text/plain": [
       "<Figure size 864x504 with 1 Axes>"
      ]
     },
     "metadata": {
      "needs_background": "light"
     },
     "output_type": "display_data"
    },
    {
     "data": {
      "image/png": "[encoded data removed]",
      "text/plain": [
       "<Figure size 864x504 with 1 Axes>"
      ]
     },
     "metadata": {
      "needs_background": "light"
     },
     "output_type": "display_data"
    },
    {
     "data": {
      "image/png": "[encoded data removed]",
      "text/plain": [
       "<Figure size 864x504 with 1 Axes>"
      ]
     },
     "metadata": {
      "needs_background": "light"
     },
     "output_type": "display_data"
    }
   ],
   "source": [
    "for i in categorical_columns.columns:\n",
    "    plot_count(categorical_columns,i)"
   ]
  },
  {
   "cell_type": "markdown",
   "metadata": {},
   "source": [
    "From the above graphs, the following can be noted:\n",
    "1. There were significantly more people who tested 'negative' for COVID-19 results compared to 'positive' and 'other'.  Since this is the target variable, it means the dataset is imbalanced and this could affect the accuracy of the models.\n",
    "2. There were more people over the age of 60 who were tested\n",
    "3. There were more females than males who were tested\n"
   ]
  },
  {
   "cell_type": "code",
   "execution_count": 17,
   "metadata": {},
   "outputs": [],
   "source": [
    "#plot_bar(df:pd.DataFrame, x_col:str, y_col:str, title:str, xlabel:str, ylabel:str)\n",
    "#plot_scatter(df: pd.DataFrame, x_col: str, y_col: str, title: str, hue: str, style: str) \n",
    "#plot_scatter(data,'corona_result','gender','Relationship betweeen the corona result and gender',\"gender\",\"gender\")\n"
   ]
  },
  {
   "cell_type": "code",
   "execution_count": 18,
   "metadata": {},
   "outputs": [],
   "source": [
    "#plot_scatter(data,'corona_result','test_indication','Relationship betweeen the corona result and test indication',\"gender\",\"gender\")"
   ]
  },
  {
   "cell_type": "markdown",
   "metadata": {},
   "source": [
    "#### One hot encoding"
   ]
  },
  {
   "cell_type": "code",
   "execution_count": 19,
   "metadata": {},
   "outputs": [
    {
     "data": {
      "text/html": [
       "<div>\n",
       "<style scoped>\n",
       "    .dataframe tbody tr th:only-of-type {\n",
       "        vertical-align: middle;\n",
       "    }\n",
       "\n",
       "    .dataframe tbody tr th {\n",
       "        vertical-align: top;\n",
       "    }\n",
       "\n",
       "    .dataframe thead th {\n",
       "        text-align: right;\n",
       "    }\n",
       "</style>\n",
       "<table border=\"1\" class=\"dataframe\">\n",
       "  <thead>\n",
       "    <tr style=\"text-align: right;\">\n",
       "      <th></th>\n",
       "      <th>age_60_and_above_No</th>\n",
       "      <th>age_60_and_above_Yes</th>\n",
       "      <th>gender_female</th>\n",
       "      <th>gender_male</th>\n",
       "      <th>test_indication_Abroad</th>\n",
       "      <th>test_indication_Contact with confirmed</th>\n",
       "      <th>test_indication_Other</th>\n",
       "    </tr>\n",
       "  </thead>\n",
       "  <tbody>\n",
       "    <tr>\n",
       "      <th>0</th>\n",
       "      <td>1</td>\n",
       "      <td>0</td>\n",
       "      <td>0</td>\n",
       "      <td>1</td>\n",
       "      <td>0</td>\n",
       "      <td>0</td>\n",
       "      <td>1</td>\n",
       "    </tr>\n",
       "    <tr>\n",
       "      <th>1</th>\n",
       "      <td>1</td>\n",
       "      <td>0</td>\n",
       "      <td>0</td>\n",
       "      <td>1</td>\n",
       "      <td>0</td>\n",
       "      <td>0</td>\n",
       "      <td>1</td>\n",
       "    </tr>\n",
       "    <tr>\n",
       "      <th>2</th>\n",
       "      <td>0</td>\n",
       "      <td>1</td>\n",
       "      <td>1</td>\n",
       "      <td>0</td>\n",
       "      <td>0</td>\n",
       "      <td>0</td>\n",
       "      <td>1</td>\n",
       "    </tr>\n",
       "    <tr>\n",
       "      <th>3</th>\n",
       "      <td>1</td>\n",
       "      <td>0</td>\n",
       "      <td>0</td>\n",
       "      <td>1</td>\n",
       "      <td>0</td>\n",
       "      <td>0</td>\n",
       "      <td>1</td>\n",
       "    </tr>\n",
       "    <tr>\n",
       "      <th>4</th>\n",
       "      <td>1</td>\n",
       "      <td>0</td>\n",
       "      <td>0</td>\n",
       "      <td>1</td>\n",
       "      <td>0</td>\n",
       "      <td>1</td>\n",
       "      <td>0</td>\n",
       "    </tr>\n",
       "  </tbody>\n",
       "</table>\n",
       "</div>"
      ],
      "text/plain": [
       "   age_60_and_above_No  age_60_and_above_Yes  gender_female  gender_male  \\\n",
       "0                    1                     0              0            1   \n",
       "1                    1                     0              0            1   \n",
       "2                    0                     1              1            0   \n",
       "3                    1                     0              0            1   \n",
       "4                    1                     0              0            1   \n",
       "\n",
       "   test_indication_Abroad  test_indication_Contact with confirmed  \\\n",
       "0                       0                                       0   \n",
       "1                       0                                       0   \n",
       "2                       0                                       0   \n",
       "3                       0                                       0   \n",
       "4                       0                                       1   \n",
       "\n",
       "   test_indication_Other  \n",
       "0                      1  \n",
       "1                      1  \n",
       "2                      1  \n",
       "3                      1  \n",
       "4                      0  "
      ]
     },
     "execution_count": 19,
     "metadata": {},
     "output_type": "execute_result"
    }
   ],
   "source": [
    "#obtaining onehot encoded categorical columns\n",
    "def oh_encoder(cat_col:pd.DataFrame):\n",
    "    \"\"\"A function that returns a dataframe of the categorical columns \n",
    "    obtained by one hot encoding when a dataframe containing the\n",
    "    categorical columns is passed\"\"\"\n",
    "    cols_new_cat=pd.get_dummies(cat_col)\n",
    "    return cols_new_cat\n",
    "\n",
    "\n",
    "cat_cols=oh_encoder(categorical_columns)\n",
    "cat_cols.head()"
   ]
  },
  {
   "cell_type": "code",
   "execution_count": 20,
   "metadata": {},
   "outputs": [
    {
     "data": {
      "text/html": [
       "<div>\n",
       "<style scoped>\n",
       "    .dataframe tbody tr th:only-of-type {\n",
       "        vertical-align: middle;\n",
       "    }\n",
       "\n",
       "    .dataframe tbody tr th {\n",
       "        vertical-align: top;\n",
       "    }\n",
       "\n",
       "    .dataframe thead th {\n",
       "        text-align: right;\n",
       "    }\n",
       "</style>\n",
       "<table border=\"1\" class=\"dataframe\">\n",
       "  <thead>\n",
       "    <tr style=\"text-align: right;\">\n",
       "      <th></th>\n",
       "      <th>test_date</th>\n",
       "      <th>cough</th>\n",
       "      <th>fever</th>\n",
       "      <th>sore_throat</th>\n",
       "      <th>shortness_of_breath</th>\n",
       "      <th>head_ache</th>\n",
       "      <th>corona_result</th>\n",
       "      <th>age_60_and_above</th>\n",
       "      <th>gender</th>\n",
       "      <th>test_indication</th>\n",
       "      <th>age_60_and_above_No</th>\n",
       "      <th>age_60_and_above_Yes</th>\n",
       "      <th>gender_female</th>\n",
       "      <th>gender_male</th>\n",
       "      <th>test_indication_Abroad</th>\n",
       "      <th>test_indication_Contact with confirmed</th>\n",
       "      <th>test_indication_Other</th>\n",
       "    </tr>\n",
       "  </thead>\n",
       "  <tbody>\n",
       "    <tr>\n",
       "      <th>0</th>\n",
       "      <td>2020-11-12</td>\n",
       "      <td>0</td>\n",
       "      <td>0</td>\n",
       "      <td>0</td>\n",
       "      <td>0</td>\n",
       "      <td>0</td>\n",
       "      <td>negative</td>\n",
       "      <td>No</td>\n",
       "      <td>male</td>\n",
       "      <td>Other</td>\n",
       "      <td>1</td>\n",
       "      <td>0</td>\n",
       "      <td>0</td>\n",
       "      <td>1</td>\n",
       "      <td>0</td>\n",
       "      <td>0</td>\n",
       "      <td>1</td>\n",
       "    </tr>\n",
       "    <tr>\n",
       "      <th>1</th>\n",
       "      <td>2020-11-12</td>\n",
       "      <td>0</td>\n",
       "      <td>1</td>\n",
       "      <td>0</td>\n",
       "      <td>0</td>\n",
       "      <td>0</td>\n",
       "      <td>negative</td>\n",
       "      <td>No</td>\n",
       "      <td>male</td>\n",
       "      <td>Other</td>\n",
       "      <td>1</td>\n",
       "      <td>0</td>\n",
       "      <td>0</td>\n",
       "      <td>1</td>\n",
       "      <td>0</td>\n",
       "      <td>0</td>\n",
       "      <td>1</td>\n",
       "    </tr>\n",
       "    <tr>\n",
       "      <th>2</th>\n",
       "      <td>2020-11-12</td>\n",
       "      <td>0</td>\n",
       "      <td>0</td>\n",
       "      <td>0</td>\n",
       "      <td>0</td>\n",
       "      <td>0</td>\n",
       "      <td>negative</td>\n",
       "      <td>Yes</td>\n",
       "      <td>female</td>\n",
       "      <td>Other</td>\n",
       "      <td>0</td>\n",
       "      <td>1</td>\n",
       "      <td>1</td>\n",
       "      <td>0</td>\n",
       "      <td>0</td>\n",
       "      <td>0</td>\n",
       "      <td>1</td>\n",
       "    </tr>\n",
       "    <tr>\n",
       "      <th>3</th>\n",
       "      <td>2020-11-12</td>\n",
       "      <td>0</td>\n",
       "      <td>0</td>\n",
       "      <td>0</td>\n",
       "      <td>0</td>\n",
       "      <td>0</td>\n",
       "      <td>negative</td>\n",
       "      <td>No</td>\n",
       "      <td>male</td>\n",
       "      <td>Other</td>\n",
       "      <td>1</td>\n",
       "      <td>0</td>\n",
       "      <td>0</td>\n",
       "      <td>1</td>\n",
       "      <td>0</td>\n",
       "      <td>0</td>\n",
       "      <td>1</td>\n",
       "    </tr>\n",
       "    <tr>\n",
       "      <th>4</th>\n",
       "      <td>2020-11-12</td>\n",
       "      <td>0</td>\n",
       "      <td>1</td>\n",
       "      <td>0</td>\n",
       "      <td>0</td>\n",
       "      <td>0</td>\n",
       "      <td>negative</td>\n",
       "      <td>No</td>\n",
       "      <td>male</td>\n",
       "      <td>Contact with confirmed</td>\n",
       "      <td>1</td>\n",
       "      <td>0</td>\n",
       "      <td>0</td>\n",
       "      <td>1</td>\n",
       "      <td>0</td>\n",
       "      <td>1</td>\n",
       "      <td>0</td>\n",
       "    </tr>\n",
       "  </tbody>\n",
       "</table>\n",
       "</div>"
      ],
      "text/plain": [
       "   test_date  cough  fever  sore_throat  shortness_of_breath  head_ache  \\\n",
       "0 2020-11-12      0      0            0                    0          0   \n",
       "1 2020-11-12      0      1            0                    0          0   \n",
       "2 2020-11-12      0      0            0                    0          0   \n",
       "3 2020-11-12      0      0            0                    0          0   \n",
       "4 2020-11-12      0      1            0                    0          0   \n",
       "\n",
       "  corona_result age_60_and_above  gender         test_indication  \\\n",
       "0      negative               No    male                   Other   \n",
       "1      negative               No    male                   Other   \n",
       "2      negative              Yes  female                   Other   \n",
       "3      negative               No    male                   Other   \n",
       "4      negative               No    male  Contact with confirmed   \n",
       "\n",
       "   age_60_and_above_No  age_60_and_above_Yes  gender_female  gender_male  \\\n",
       "0                    1                     0              0            1   \n",
       "1                    1                     0              0            1   \n",
       "2                    0                     1              1            0   \n",
       "3                    1                     0              0            1   \n",
       "4                    1                     0              0            1   \n",
       "\n",
       "   test_indication_Abroad  test_indication_Contact with confirmed  \\\n",
       "0                       0                                       0   \n",
       "1                       0                                       0   \n",
       "2                       0                                       0   \n",
       "3                       0                                       0   \n",
       "4                       0                                       1   \n",
       "\n",
       "   test_indication_Other  \n",
       "0                      1  \n",
       "1                      1  \n",
       "2                      1  \n",
       "3                      1  \n",
       "4                      0  "
      ]
     },
     "execution_count": 20,
     "metadata": {},
     "output_type": "execute_result"
    }
   ],
   "source": [
    "#add the one-hot encoded columns to the original dataframe\n",
    "data=pd.concat([data,cat_cols],axis=1)\n",
    "data.head()"
   ]
  },
  {
   "cell_type": "code",
   "execution_count": 21,
   "metadata": {},
   "outputs": [],
   "source": [
    "num_cols=data[['test_date','cough', 'fever', 'sore_throat', 'shortness_of_breath', 'head_ache']]\n",
    "target_col=data[['corona_result']]\n",
    "\n",
    "new_df=pd.concat([num_cols,cat_cols],axis=1)\n",
    "\n",
    "new_df=pd.concat([new_df,target_col],axis=1)\n",
    "\n"
   ]
  },
  {
   "cell_type": "code",
   "execution_count": 22,
   "metadata": {},
   "outputs": [
    {
     "data": {
      "text/html": [
       "<div>\n",
       "<style scoped>\n",
       "    .dataframe tbody tr th:only-of-type {\n",
       "        vertical-align: middle;\n",
       "    }\n",
       "\n",
       "    .dataframe tbody tr th {\n",
       "        vertical-align: top;\n",
       "    }\n",
       "\n",
       "    .dataframe thead th {\n",
       "        text-align: right;\n",
       "    }\n",
       "</style>\n",
       "<table border=\"1\" class=\"dataframe\">\n",
       "  <thead>\n",
       "    <tr style=\"text-align: right;\">\n",
       "      <th></th>\n",
       "      <th>cough</th>\n",
       "      <th>fever</th>\n",
       "      <th>sore_throat</th>\n",
       "      <th>shortness_of_breath</th>\n",
       "      <th>head_ache</th>\n",
       "      <th>age_60_and_above_No</th>\n",
       "      <th>age_60_and_above_Yes</th>\n",
       "      <th>gender_female</th>\n",
       "      <th>gender_male</th>\n",
       "      <th>test_indication_Abroad</th>\n",
       "      <th>test_indication_Contact with confirmed</th>\n",
       "      <th>test_indication_Other</th>\n",
       "      <th>corona_result</th>\n",
       "    </tr>\n",
       "    <tr>\n",
       "      <th>test_date</th>\n",
       "      <th></th>\n",
       "      <th></th>\n",
       "      <th></th>\n",
       "      <th></th>\n",
       "      <th></th>\n",
       "      <th></th>\n",
       "      <th></th>\n",
       "      <th></th>\n",
       "      <th></th>\n",
       "      <th></th>\n",
       "      <th></th>\n",
       "      <th></th>\n",
       "      <th></th>\n",
       "    </tr>\n",
       "  </thead>\n",
       "  <tbody>\n",
       "    <tr>\n",
       "      <th>2020-11-12</th>\n",
       "      <td>0</td>\n",
       "      <td>0</td>\n",
       "      <td>0</td>\n",
       "      <td>0</td>\n",
       "      <td>0</td>\n",
       "      <td>1</td>\n",
       "      <td>0</td>\n",
       "      <td>0</td>\n",
       "      <td>1</td>\n",
       "      <td>0</td>\n",
       "      <td>0</td>\n",
       "      <td>1</td>\n",
       "      <td>negative</td>\n",
       "    </tr>\n",
       "    <tr>\n",
       "      <th>2020-11-12</th>\n",
       "      <td>0</td>\n",
       "      <td>1</td>\n",
       "      <td>0</td>\n",
       "      <td>0</td>\n",
       "      <td>0</td>\n",
       "      <td>1</td>\n",
       "      <td>0</td>\n",
       "      <td>0</td>\n",
       "      <td>1</td>\n",
       "      <td>0</td>\n",
       "      <td>0</td>\n",
       "      <td>1</td>\n",
       "      <td>negative</td>\n",
       "    </tr>\n",
       "    <tr>\n",
       "      <th>2020-11-12</th>\n",
       "      <td>0</td>\n",
       "      <td>0</td>\n",
       "      <td>0</td>\n",
       "      <td>0</td>\n",
       "      <td>0</td>\n",
       "      <td>0</td>\n",
       "      <td>1</td>\n",
       "      <td>1</td>\n",
       "      <td>0</td>\n",
       "      <td>0</td>\n",
       "      <td>0</td>\n",
       "      <td>1</td>\n",
       "      <td>negative</td>\n",
       "    </tr>\n",
       "    <tr>\n",
       "      <th>2020-11-12</th>\n",
       "      <td>0</td>\n",
       "      <td>0</td>\n",
       "      <td>0</td>\n",
       "      <td>0</td>\n",
       "      <td>0</td>\n",
       "      <td>1</td>\n",
       "      <td>0</td>\n",
       "      <td>0</td>\n",
       "      <td>1</td>\n",
       "      <td>0</td>\n",
       "      <td>0</td>\n",
       "      <td>1</td>\n",
       "      <td>negative</td>\n",
       "    </tr>\n",
       "    <tr>\n",
       "      <th>2020-11-12</th>\n",
       "      <td>0</td>\n",
       "      <td>1</td>\n",
       "      <td>0</td>\n",
       "      <td>0</td>\n",
       "      <td>0</td>\n",
       "      <td>1</td>\n",
       "      <td>0</td>\n",
       "      <td>0</td>\n",
       "      <td>1</td>\n",
       "      <td>0</td>\n",
       "      <td>1</td>\n",
       "      <td>0</td>\n",
       "      <td>negative</td>\n",
       "    </tr>\n",
       "  </tbody>\n",
       "</table>\n",
       "</div>"
      ],
      "text/plain": [
       "            cough  fever  sore_throat  shortness_of_breath  head_ache  \\\n",
       "test_date                                                               \n",
       "2020-11-12      0      0            0                    0          0   \n",
       "2020-11-12      0      1            0                    0          0   \n",
       "2020-11-12      0      0            0                    0          0   \n",
       "2020-11-12      0      0            0                    0          0   \n",
       "2020-11-12      0      1            0                    0          0   \n",
       "\n",
       "            age_60_and_above_No  age_60_and_above_Yes  gender_female  \\\n",
       "test_date                                                              \n",
       "2020-11-12                    1                     0              0   \n",
       "2020-11-12                    1                     0              0   \n",
       "2020-11-12                    0                     1              1   \n",
       "2020-11-12                    1                     0              0   \n",
       "2020-11-12                    1                     0              0   \n",
       "\n",
       "            gender_male  test_indication_Abroad  \\\n",
       "test_date                                         \n",
       "2020-11-12            1                       0   \n",
       "2020-11-12            1                       0   \n",
       "2020-11-12            0                       0   \n",
       "2020-11-12            1                       0   \n",
       "2020-11-12            1                       0   \n",
       "\n",
       "            test_indication_Contact with confirmed  test_indication_Other  \\\n",
       "test_date                                                                   \n",
       "2020-11-12                                       0                      1   \n",
       "2020-11-12                                       0                      1   \n",
       "2020-11-12                                       0                      1   \n",
       "2020-11-12                                       0                      1   \n",
       "2020-11-12                                       1                      0   \n",
       "\n",
       "           corona_result  \n",
       "test_date                 \n",
       "2020-11-12      negative  \n",
       "2020-11-12      negative  \n",
       "2020-11-12      negative  \n",
       "2020-11-12      negative  \n",
       "2020-11-12      negative  "
      ]
     },
     "execution_count": 22,
     "metadata": {},
     "output_type": "execute_result"
    }
   ],
   "source": [
    "new_df=new_df.set_index('test_date')\n",
    "new_df.head()"
   ]
  },
  {
   "cell_type": "markdown",
   "metadata": {},
   "source": [
    "We can drop rows that have corona result as 'other' since this is not defined"
   ]
  },
  {
   "cell_type": "code",
   "execution_count": 23,
   "metadata": {},
   "outputs": [],
   "source": [
    "new_df=new_df[new_df.corona_result != \"other\"]\n"
   ]
  },
  {
   "cell_type": "code",
   "execution_count": 24,
   "metadata": {},
   "outputs": [],
   "source": [
    "new_df.to_csv(\"covid_processed.csv\")"
   ]
  },
  {
   "cell_type": "markdown",
   "metadata": {},
   "source": [
    "### Splitting the dataset\n",
    "\n",
    "The dataset is split into test and train set with a test size of 30%"
   ]
  },
  {
   "cell_type": "markdown",
   "metadata": {},
   "source": [
    "#### Obtaining the predictor variables and the target variables"
   ]
  },
  {
   "cell_type": "code",
   "execution_count": 25,
   "metadata": {},
   "outputs": [],
   "source": [
    "X=new_df.drop(\"corona_result\",axis=1)\n",
    "y=new_df['corona_result']"
   ]
  },
  {
   "cell_type": "code",
   "execution_count": 26,
   "metadata": {},
   "outputs": [],
   "source": [
    "X_train,X_test,y_train,y_test=train_test_split(X,y,test_size=0.3)"
   ]
  },
  {
   "cell_type": "markdown",
   "metadata": {},
   "source": [
    "### Checking for class imbalance"
   ]
  },
  {
   "cell_type": "code",
   "execution_count": 27,
   "metadata": {},
   "outputs": [
    {
     "data": {
      "text/plain": [
       "negative    1359932\n",
       "positive     146396\n",
       "Name: corona_result, dtype: int64"
      ]
     },
     "execution_count": 27,
     "metadata": {},
     "output_type": "execute_result"
    }
   ],
   "source": [
    "y_train.value_counts()"
   ]
  },
  {
   "cell_type": "markdown",
   "metadata": {},
   "source": [
    "There are only 146,049 instances of positive instances out of a total of 1,506,328 instances. This means the machine learning algotrithm will have exposure to very little of the training instances with a positive corona result. To handle class imbalance, oversampling techniques could be used. This could be done using the SMOTE algorithm"
   ]
  },
  {
   "cell_type": "markdown",
   "metadata": {},
   "source": [
    "### Scaling of the data"
   ]
  },
  {
   "cell_type": "code",
   "execution_count": 28,
   "metadata": {},
   "outputs": [],
   "source": [
    "sc=StandardScaler()\n",
    "X_train=sc.fit_transform(X_train)\n",
    "X_test=sc.transform(X_test)"
   ]
  },
  {
   "cell_type": "markdown",
   "metadata": {},
   "source": [
    "### Feature Selection"
   ]
  },
  {
   "cell_type": "code",
   "execution_count": 29,
   "metadata": {},
   "outputs": [],
   "source": [
    "feature_names=['cough', 'fever', 'sore_throat', 'shortness_of_breath', 'head_ache',\n",
    "       'age_60_and_above_No', 'age_60_and_above_Yes', 'gender_female',\n",
    "       'gender_male', 'test_indication_Abroad',\n",
    "       'test_indication_Contact with confirmed', 'test_indication_Other']"
   ]
  },
  {
   "cell_type": "markdown",
   "metadata": {},
   "source": [
    "# Model development and Model Evaluation\n",
    "\n",
    "1. Test a number of classifier models on training data\n",
    "2. Select the one the works the best and check performance on test data\n",
    "\n",
    "\n",
    "The models to be used include: Decision Tree, Random Forests, Logistic Regression,Naive Bayes"
   ]
  },
  {
   "cell_type": "markdown",
   "metadata": {},
   "source": [
    "## Using Decision Tree"
   ]
  },
  {
   "cell_type": "code",
   "execution_count": 30,
   "metadata": {},
   "outputs": [
    {
     "data": {
      "text/plain": [
       "DecisionTreeClassifier()"
      ]
     },
     "execution_count": 30,
     "metadata": {},
     "output_type": "execute_result"
    }
   ],
   "source": [
    "dt_clf=DecisionTreeClassifier()\n",
    "dt_clf.fit(X_train,y_train)"
   ]
  },
  {
   "cell_type": "code",
   "execution_count": 31,
   "metadata": {},
   "outputs": [
    {
     "name": "stdout",
     "output_type": "stream",
     "text": [
      "Accuracy on training set :  0.9295412420136916\n",
      "Accuracy on test set :  0.9296342766857196\n"
     ]
    }
   ],
   "source": [
    "print(\"Accuracy on training set : \", dt_clf.score(X_train,y_train))\n",
    "print(\"Accuracy on test set : \", dt_clf.score(X_test,y_test))"
   ]
  },
  {
   "cell_type": "markdown",
   "metadata": {},
   "source": [
    "## Using Random Forest"
   ]
  },
  {
   "cell_type": "code",
   "execution_count": 32,
   "metadata": {},
   "outputs": [
    {
     "data": {
      "text/plain": [
       "RandomForestClassifier()"
      ]
     },
     "execution_count": 32,
     "metadata": {},
     "output_type": "execute_result"
    }
   ],
   "source": [
    "rt_clf=RandomForestClassifier()\n",
    "rt_clf.fit(X_train,y_train)"
   ]
  },
  {
   "cell_type": "code",
   "execution_count": 33,
   "metadata": {},
   "outputs": [
    {
     "name": "stdout",
     "output_type": "stream",
     "text": [
      "Accuracy on training set :  0.9295412420136916\n",
      "Accuracy on test set :  0.9296342766857196\n"
     ]
    }
   ],
   "source": [
    "print(\"Accuracy on training set : \", rt_clf.score(X_train,y_train))\n",
    "print(\"Accuracy on test set : \", rt_clf.score(X_test,y_test))"
   ]
  },
  {
   "cell_type": "markdown",
   "metadata": {},
   "source": [
    "## Using Logistic Regression"
   ]
  },
  {
   "cell_type": "code",
   "execution_count": 34,
   "metadata": {},
   "outputs": [
    {
     "data": {
      "text/plain": [
       "LogisticRegression(random_state=0)"
      ]
     },
     "execution_count": 34,
     "metadata": {},
     "output_type": "execute_result"
    }
   ],
   "source": [
    "lr_clf=LogisticRegression(random_state=0)\n",
    "lr_clf.fit(X_train,y_train)"
   ]
  },
  {
   "cell_type": "code",
   "execution_count": 35,
   "metadata": {},
   "outputs": [
    {
     "name": "stdout",
     "output_type": "stream",
     "text": [
      "Accuracy on training set :  0.9197651507506998\n",
      "Accuracy on test set :  0.9205616741794074\n"
     ]
    }
   ],
   "source": [
    "print(\"Accuracy on training set : \", lr_clf.score(X_train,y_train))\n",
    "print(\"Accuracy on test set : \", lr_clf.score(X_test,y_test))"
   ]
  },
  {
   "cell_type": "markdown",
   "metadata": {},
   "source": [
    "## Using Naive Bayes"
   ]
  },
  {
   "cell_type": "code",
   "execution_count": 36,
   "metadata": {},
   "outputs": [
    {
     "data": {
      "text/plain": [
       "GaussianNB()"
      ]
     },
     "execution_count": 36,
     "metadata": {},
     "output_type": "execute_result"
    }
   ],
   "source": [
    "nb_clf=GaussianNB()\n",
    "nb_clf.fit(X_train,y_train)"
   ]
  },
  {
   "cell_type": "code",
   "execution_count": 37,
   "metadata": {},
   "outputs": [
    {
     "name": "stdout",
     "output_type": "stream",
     "text": [
      "Accuracy on training set :  0.9169404007626493\n",
      "Accuracy on test set :  0.9169152841674799\n"
     ]
    }
   ],
   "source": [
    "print(\"Accuracy on training set : \", nb_clf.score(X_train,y_train))\n",
    "print(\"Accuracy on test set : \", nb_clf.score(X_test,y_test))"
   ]
  },
  {
   "cell_type": "markdown",
   "metadata": {},
   "source": [
    "## Using ensembles\n",
    "\n",
    "### 1. Ensemble of SVM and Logistic Regression"
   ]
  },
  {
   "cell_type": "code",
   "execution_count": 38,
   "metadata": {},
   "outputs": [
    {
     "data": {
      "text/plain": [
       "VotingClassifier(estimators=[('lr', LogisticRegression(random_state=0)),\n",
       "                             ('nb', GaussianNB()),\n",
       "                             ('decision', DecisionTreeClassifier())])"
      ]
     },
     "execution_count": 38,
     "metadata": {},
     "output_type": "execute_result"
    }
   ],
   "source": [
    "from sklearn.svm import SVC\n",
    "from sklearn.ensemble import VotingClassifier\n",
    "\n",
    "voting_clf=VotingClassifier(estimators=[('lr', lr_clf),('nb',nb_clf),('decision',dt_clf)],voting='hard')\n",
    "voting_clf.fit(X_train,y_train)"
   ]
  },
  {
   "cell_type": "code",
   "execution_count": 39,
   "metadata": {},
   "outputs": [
    {
     "data": {
      "text/plain": [
       "0.9296420217792029"
      ]
     },
     "execution_count": 39,
     "metadata": {},
     "output_type": "execute_result"
    }
   ],
   "source": [
    "voting_clf.score(X_train,y_train)\n",
    "voting_clf.score(X_test,y_test)"
   ]
  },
  {
   "cell_type": "markdown",
   "metadata": {},
   "source": [
    "### 2. Ensemble using Logistic Regression and Decision Trees"
   ]
  },
  {
   "cell_type": "code",
   "execution_count": 40,
   "metadata": {},
   "outputs": [
    {
     "data": {
      "text/plain": [
       "VotingClassifier(estimators=[('lr', LogisticRegression(random_state=0)),\n",
       "                             ('decision', DecisionTreeClassifier())])"
      ]
     },
     "execution_count": 40,
     "metadata": {},
     "output_type": "execute_result"
    }
   ],
   "source": [
    "voting_clf2=VotingClassifier(estimators=[('lr', lr_clf),('decision',dt_clf)],voting='hard')\n",
    "voting_clf2.fit(X_train,y_train)"
   ]
  },
  {
   "cell_type": "code",
   "execution_count": 41,
   "metadata": {},
   "outputs": [
    {
     "data": {
      "text/plain": [
       "0.9205554781046207"
      ]
     },
     "execution_count": 41,
     "metadata": {},
     "output_type": "execute_result"
    }
   ],
   "source": [
    "voting_clf2.score(X_train,y_train)\n",
    "voting_clf2.score(X_test,y_test)"
   ]
  },
  {
   "cell_type": "markdown",
   "metadata": {},
   "source": [
    "The best performing model on the training set is the decision tree and the ensemble using SVM and logistic regression"
   ]
  },
  {
   "cell_type": "markdown",
   "metadata": {},
   "source": [
    "### Feature importances"
   ]
  },
  {
   "cell_type": "code",
   "execution_count": 42,
   "metadata": {},
   "outputs": [],
   "source": [
    "def plot_feature_importance(importance,names,model):\n",
    "    \"\"\"A function that obtains the importance of features, ranks them in order of the most important\n",
    "    to the least important, displays features in form of a dataframe and visualizes the features in a bar chart\"\"\"\n",
    "    feature_importance=np.array(importance)\n",
    "    feature_names=np.array(names)\n",
    "    data_df={'feature_names':feature_names, 'feature_importance':feature_importance}\n",
    "    fi_df=pd.DataFrame(data_df)\n",
    "    fi_df.sort_values(by=['feature_importance'],ascending=False,inplace=True)\n",
    "    #plot\n",
    "    plt.figure(figsize=(10,8))\n",
    "    sns.barplot(x=fi_df['feature_importance'],y=fi_df['feature_names'])\n",
    "    plt.title(model+\" \" +\"Feature Importance\")\n",
    "    plt.xlabel(\"Feature Importance\")\n",
    "    plt.ylabel(\"feature_names\")\n",
    "    "
   ]
  },
  {
   "cell_type": "code",
   "execution_count": 43,
   "metadata": {},
   "outputs": [
    {
     "data": {
      "image/png": "[encoded data removed]",
      "text/plain": [
       "<Figure size 720x576 with 1 Axes>"
      ]
     },
     "metadata": {
      "needs_background": "light"
     },
     "output_type": "display_data"
    }
   ],
   "source": [
    "#decision tree\n",
    "plot_feature_importance(dt_clf.feature_importances_,feature_names,'Decision_Tree')"
   ]
  },
  {
   "cell_type": "markdown",
   "metadata": {},
   "source": [
    "When using the decision tree, the top 5 most important features in predicting whether an individual has COVID19 are: test_indication_Contact with confirmed, head_ache,fever, sore_throat and shortness_of_breath\t"
   ]
  },
  {
   "cell_type": "code",
   "execution_count": 44,
   "metadata": {},
   "outputs": [
    {
     "data": {
      "image/png": "[encoded data removed]",
      "text/plain": [
       "<Figure size 720x576 with 1 Axes>"
      ]
     },
     "metadata": {
      "needs_background": "light"
     },
     "output_type": "display_data"
    }
   ],
   "source": [
    "#random forest classifier\n",
    "plot_feature_importance(rt_clf.feature_importances_,feature_names,'Random_Forest')"
   ]
  },
  {
   "cell_type": "markdown",
   "metadata": {},
   "source": [
    "When using the random forest, the top 5 most important features in predicting whether an individual has COVID19 are: test_indication_Contact with confirmed, test_indication_Other,head_ache,fever, sore_throat and cough\t"
   ]
  },
  {
   "cell_type": "code",
   "execution_count": 45,
   "metadata": {},
   "outputs": [
    {
     "data": {
      "image/png": "[encoded data removed]",
      "text/plain": [
       "<Figure size 720x576 with 1 Axes>"
      ]
     },
     "metadata": {
      "needs_background": "light"
     },
     "output_type": "display_data"
    }
   ],
   "source": [
    "plot_feature_importance(lr_clf.coef_[0],feature_names,'Logistic_Regression')"
   ]
  },
  {
   "cell_type": "markdown",
   "metadata": {},
   "source": [
    "When using the logistic regression, the top 5 most important features in predicting whether an individual has COVID19 are: test_indication_Contact with confirmed, fever, head_ache, sore_throat and cough\n",
    "\n",
    "#### From the above , it can be said that the most important features are the test_indication and the appearance of the five clinical symptoms"
   ]
  },
  {
   "cell_type": "markdown",
   "metadata": {},
   "source": [
    "# Building a model using only the important features"
   ]
  },
  {
   "cell_type": "code",
   "execution_count": 46,
   "metadata": {},
   "outputs": [],
   "source": [
    "X_ft=new_df[['test_indication_Contact with confirmed', 'head_ache','fever', 'sore_throat', 'shortness_of_breath']]\n",
    "y_ft=new_df['corona_result']\n",
    "Xft_train,Xft_test,yft_train,yft_test=train_test_split(X_ft,y_ft,test_size=0.3)\n",
    "sc=StandardScaler()\n",
    "X_train=sc.fit_transform(X_train)\n",
    "X_test=sc.transform(X_test)"
   ]
  },
  {
   "cell_type": "code",
   "execution_count": 47,
   "metadata": {},
   "outputs": [
    {
     "name": "stdout",
     "output_type": "stream",
     "text": [
      "Accuracy on training set :  0.9288196196313153\n",
      "Accuracy on test set :  0.9284818067754078\n"
     ]
    }
   ],
   "source": [
    "dt_clf.fit(Xft_train,yft_train)\n",
    "print(\"Accuracy on training set : \", dt_clf.score(Xft_train,yft_train))\n",
    "print(\"Accuracy on test set : \", dt_clf.score(Xft_test,yft_test))"
   ]
  },
  {
   "cell_type": "markdown",
   "metadata": {},
   "source": [
    "The model performance has improved slightly"
   ]
  },
  {
   "cell_type": "code",
   "execution_count": null,
   "metadata": {},
   "outputs": [],
   "source": []
  },
  {
   "cell_type": "code",
   "execution_count": null,
   "metadata": {},
   "outputs": [],
   "source": []
  },
  {
   "cell_type": "code",
   "execution_count": null,
   "metadata": {},
   "outputs": [],
   "source": []
  },
  {
   "cell_type": "code",
   "execution_count": null,
   "metadata": {},
   "outputs": [],
   "source": []
  }
 ],
 "metadata": {
  "interpreter": {
   "hash": "8e10d5ef73ceec4263c252794227d24c5ed6fcc59ae2639e333964b9968f1f38"
  },
  "kernelspec": {
   "display_name": "Python 3.8.3 64-bit ('base': conda)",
   "name": "python3"
  },
  "language_info": {
   "codemirror_mode": {
    "name": "ipython",
    "version": 3
   },
   "file_extension": ".py",
   "mimetype": "text/x-python",
   "name": "python",
   "nbconvert_exporter": "python",
   "pygments_lexer": "ipython3",
   "version": "3.8.3"
  },
  "orig_nbformat": 4
 },
 "nbformat": 4,
 "nbformat_minor": 2
}
